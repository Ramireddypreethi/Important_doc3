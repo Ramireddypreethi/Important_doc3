{
 "cells": [
  {
   "cell_type": "markdown",
   "metadata": {
    "application/vnd.databricks.v1+cell": {
     "cellMetadata": {},
     "inputWidgets": {},
     "nuid": "f93bcc16-d96b-4ea1-8f5c-73a82269be48",
     "showTitle": false,
     "tableResultSettingsMap": {},
     "title": ""
    }
   },
   "source": [
    "DATA BRICKS ASSESSMENT\n",
    "\n",
    "NAME: RAMIREDDY PREETHI\n",
    "\n",
    "BATCH: PYTHON BATCH 2"
   ]
  },
  {
   "cell_type": "code",
   "execution_count": 0,
   "metadata": {
    "application/vnd.databricks.v1+cell": {
     "cellMetadata": {
      "byteLimit": 2048000,
      "rowLimit": 10000
     },
     "inputWidgets": {},
     "nuid": "e2430cf6-36a9-43cb-9692-50b021ea1453",
     "showTitle": false,
     "tableResultSettingsMap": {},
     "title": ""
    }
   },
   "outputs": [
    {
     "output_type": "execute_result",
     "data": {
      "text/plain": [
       "True"
      ]
     },
     "execution_count": 1,
     "metadata": {},
     "output_type": "execute_result"
    }
   ],
   "source": [
    "configs = {\n",
    "    \"fs.azure.account.key.hexa.blob.core.windows.net\": \"22tryO+X5649syvEBLfnKMWXxuLmZycQ1ZjRjYMM5y3qDtymyxvJqE5+44j2MUamDcnL0p89OPcZ+AStreKivQ==\"\n",
    "}\n",
    "\n",
    "# all above configurations are used to create mount point\n",
    "dbutils.fs.mount(\n",
    "  source = \"wasbs://orders@hexa.blob.core.windows.net/\",\n",
    "  mount_point = \"/mnt/orders\",\n",
    "  extra_configs = configs)"
   ]
  },
  {
   "cell_type": "code",
   "execution_count": 0,
   "metadata": {
    "application/vnd.databricks.v1+cell": {
     "cellMetadata": {
      "byteLimit": 2048000,
      "rowLimit": 10000
     },
     "inputWidgets": {},
     "nuid": "a5c99417-e8fb-445c-acae-e6a075c9c83e",
     "showTitle": false,
     "tableResultSettingsMap": {},
     "title": ""
    }
   },
   "outputs": [
    {
     "output_type": "stream",
     "name": "stdout",
     "output_type": "stream",
     "text": [
      "+--------+-----------+-------------------+------+---------+\n|order_id|customer_id|         order_date|amount|   status|\n+--------+-----------+-------------------+------+---------+\n|       1|        101|2023-01-15 10:30:00| 250.0|Completed|\n|       2|        102|2023-02-20 14:00:00| 150.0|  Pending|\n|       3|        103|2023-02-22 16:45:00| 200.0|Completed|\n|       4|        101|2023-03-10 09:15:00| 100.0| Canceled|\n|       5|        104|2023-03-12 11:00:00| 300.0|Completed|\n|       6|        102|2023-04-05 13:30:00| 120.0|  Pending|\n|       7|        105|2023-04-06 15:00:00| 180.0|Completed|\n|       8|        103|2023-04-15 08:45:00| 220.0| Canceled|\n+--------+-----------+-------------------+------+---------+\n\n"
     ]
    }
   ],
   "source": [
    "df = spark.read.csv(\"/mnt/orders/orders.csv\", header=True, inferSchema=True)\n",
    "df.show()"
   ]
  },
  {
   "cell_type": "markdown",
   "metadata": {
    "application/vnd.databricks.v1+cell": {
     "cellMetadata": {},
     "inputWidgets": {},
     "nuid": "a1580a59-ff1f-4ac1-bad3-e449cb411592",
     "showTitle": false,
     "tableResultSettingsMap": {},
     "title": ""
    }
   },
   "source": [
    "1. How would you optimize a query to calculate the frequency of order_id in the orders table?  \n",
    "\n"
   ]
  },
  {
   "cell_type": "code",
   "execution_count": 0,
   "metadata": {
    "application/vnd.databricks.v1+cell": {
     "cellMetadata": {
      "byteLimit": 2048000,
      "implicitDf": true,
      "rowLimit": 10000
     },
     "inputWidgets": {},
     "nuid": "99baf080-9600-4f55-8b6a-a398cfec1733",
     "showTitle": false,
     "tableResultSettingsMap": {},
     "title": ""
    }
   },
   "outputs": [
    {
     "output_type": "display_data",
     "data": {
      "text/html": [
       "<style scoped>\n",
       "  .table-result-container {\n",
       "    max-height: 300px;\n",
       "    overflow: auto;\n",
       "  }\n",
       "  table, th, td {\n",
       "    border: 1px solid black;\n",
       "    border-collapse: collapse;\n",
       "  }\n",
       "  th, td {\n",
       "    padding: 5px;\n",
       "  }\n",
       "  th {\n",
       "    text-align: left;\n",
       "  }\n",
       "</style><div class='table-result-container'><table class='table-result'><thead style='background-color: white'><tr><th>order_id</th><th>frequency</th></tr></thead><tbody><tr><td>1</td><td>1</td></tr><tr><td>6</td><td>1</td></tr><tr><td>3</td><td>1</td></tr><tr><td>5</td><td>1</td></tr><tr><td>4</td><td>1</td></tr><tr><td>8</td><td>1</td></tr><tr><td>7</td><td>1</td></tr><tr><td>2</td><td>1</td></tr></tbody></table></div>"
      ]
     },
     "metadata": {
      "application/vnd.databricks.v1+output": {
       "addedWidgets": {},
       "aggData": [],
       "aggError": "",
       "aggOverflow": false,
       "aggSchema": [],
       "aggSeriesLimitReached": false,
       "aggType": "",
       "arguments": {},
       "columnCustomDisplayInfos": {},
       "data": [
        [
         1,
         1
        ],
        [
         6,
         1
        ],
        [
         3,
         1
        ],
        [
         5,
         1
        ],
        [
         4,
         1
        ],
        [
         8,
         1
        ],
        [
         7,
         1
        ],
        [
         2,
         1
        ]
       ],
       "datasetInfos": [],
       "dbfsResultPath": null,
       "isJsonSchema": true,
       "metadata": {
        "createTempViewForImplicitDf": true,
        "dataframeName": "_sqldf",
        "executionCount": 24
       },
       "overflow": false,
       "plotOptions": {
        "customPlotOptions": {},
        "displayType": "table",
        "pivotAggregation": null,
        "pivotColumns": null,
        "xColumns": null,
        "yColumns": null
       },
       "removedWidgets": [],
       "schema": [
        {
         "metadata": "{}",
         "name": "order_id",
         "type": "\"integer\""
        },
        {
         "metadata": "{}",
         "name": "frequency",
         "type": "\"long\""
        }
       ],
       "type": "table"
      }
     },
     "output_type": "display_data"
    }
   ],
   "source": [
    "%sql\n",
    "SELECT order_id, COUNT(*) AS frequency\n",
    "FROM orders\n",
    "GROUP BY order_id\n",
    "ORDER BY frequency DESC;\n"
   ]
  },
  {
   "cell_type": "markdown",
   "metadata": {
    "application/vnd.databricks.v1+cell": {
     "cellMetadata": {},
     "inputWidgets": {},
     "nuid": "6a05bc05-6551-47cc-89b8-4becd8187dab",
     "showTitle": false,
     "tableResultSettingsMap": {},
     "title": ""
    }
   },
   "source": [
    "2. How would you read a CSV file and write it as a Delta  in Databricks?"
   ]
  },
  {
   "cell_type": "code",
   "execution_count": 0,
   "metadata": {
    "application/vnd.databricks.v1+cell": {
     "cellMetadata": {
      "byteLimit": 2048000,
      "rowLimit": 10000
     },
     "inputWidgets": {},
     "nuid": "72b31c48-7dd2-4b59-8352-802b334cf84b",
     "showTitle": false,
     "tableResultSettingsMap": {},
     "title": ""
    }
   },
   "outputs": [],
   "source": [
    "df = spark.read.csv(\"/mnt/orders/orders.csv\", header=True, inferSchema=True)\n",
    "\n",
    "# Write the DataFrame to Delta format\n",
    "df.write.format(\"delta\").mode(\"overwrite\").save(\"/mnt/delta/orders\")"
   ]
  },
  {
   "cell_type": "code",
   "execution_count": 0,
   "metadata": {
    "application/vnd.databricks.v1+cell": {
     "cellMetadata": {
      "byteLimit": 2048000,
      "implicitDf": true,
      "rowLimit": 10000
     },
     "inputWidgets": {},
     "nuid": "7d0d63ff-17c8-4531-8379-10a31f50eb59",
     "showTitle": false,
     "tableResultSettingsMap": {},
     "title": ""
    }
   },
   "outputs": [
    {
     "output_type": "display_data",
     "data": {
      "text/html": [
       "<style scoped>\n",
       "  .table-result-container {\n",
       "    max-height: 300px;\n",
       "    overflow: auto;\n",
       "  }\n",
       "  table, th, td {\n",
       "    border: 1px solid black;\n",
       "    border-collapse: collapse;\n",
       "  }\n",
       "  th, td {\n",
       "    padding: 5px;\n",
       "  }\n",
       "  th {\n",
       "    text-align: left;\n",
       "  }\n",
       "</style><div class='table-result-container'><table class='table-result'><thead style='background-color: white'><tr></tr></thead><tbody></tbody></table></div>"
      ]
     },
     "metadata": {
      "application/vnd.databricks.v1+output": {
       "addedWidgets": {},
       "aggData": [],
       "aggError": "",
       "aggOverflow": false,
       "aggSchema": [],
       "aggSeriesLimitReached": false,
       "aggType": "",
       "arguments": {},
       "columnCustomDisplayInfos": {},
       "data": [],
       "datasetInfos": [],
       "dbfsResultPath": null,
       "isJsonSchema": true,
       "metadata": {
        "dataframeName": null
       },
       "overflow": false,
       "plotOptions": {
        "customPlotOptions": {},
        "displayType": "table",
        "pivotAggregation": null,
        "pivotColumns": null,
        "xColumns": null,
        "yColumns": null
       },
       "removedWidgets": [],
       "schema": [],
       "type": "table"
      }
     },
     "output_type": "display_data"
    }
   ],
   "source": [
    "%sql\n",
    "create database if not exists orders;"
   ]
  },
  {
   "cell_type": "code",
   "execution_count": 0,
   "metadata": {
    "application/vnd.databricks.v1+cell": {
     "cellMetadata": {
      "byteLimit": 2048000,
      "rowLimit": 10000
     },
     "inputWidgets": {},
     "nuid": "e1e73d79-0a09-4220-8f81-077def280d36",
     "showTitle": false,
     "tableResultSettingsMap": {},
     "title": ""
    }
   },
   "outputs": [],
   "source": [
    "df.write.format(\"delta\").mode(\"overwrite\").saveAsTable(\"default.orders\")"
   ]
  },
  {
   "cell_type": "code",
   "execution_count": 0,
   "metadata": {
    "application/vnd.databricks.v1+cell": {
     "cellMetadata": {
      "byteLimit": 2048000,
      "implicitDf": true,
      "rowLimit": 10000
     },
     "inputWidgets": {},
     "nuid": "cf041cd4-e230-4702-bb73-93657992e5db",
     "showTitle": false,
     "tableResultSettingsMap": {},
     "title": ""
    }
   },
   "outputs": [
    {
     "output_type": "display_data",
     "data": {
      "text/html": [
       "<style scoped>\n",
       "  .table-result-container {\n",
       "    max-height: 300px;\n",
       "    overflow: auto;\n",
       "  }\n",
       "  table, th, td {\n",
       "    border: 1px solid black;\n",
       "    border-collapse: collapse;\n",
       "  }\n",
       "  th, td {\n",
       "    padding: 5px;\n",
       "  }\n",
       "  th {\n",
       "    text-align: left;\n",
       "  }\n",
       "</style><div class='table-result-container'><table class='table-result'><thead style='background-color: white'><tr><th>order_id</th><th>customer_id</th><th>order_date</th><th>amount</th><th>status</th></tr></thead><tbody><tr><td>1</td><td>101</td><td>2023-01-15T10:30:00Z</td><td>250.0</td><td>Completed</td></tr><tr><td>2</td><td>102</td><td>2023-02-20T14:00:00Z</td><td>150.0</td><td>Pending</td></tr><tr><td>3</td><td>103</td><td>2023-02-22T16:45:00Z</td><td>200.0</td><td>Completed</td></tr><tr><td>4</td><td>101</td><td>2023-03-10T09:15:00Z</td><td>100.0</td><td>Canceled</td></tr><tr><td>5</td><td>104</td><td>2023-03-12T11:00:00Z</td><td>300.0</td><td>Completed</td></tr><tr><td>6</td><td>102</td><td>2023-04-05T13:30:00Z</td><td>120.0</td><td>Pending</td></tr><tr><td>7</td><td>105</td><td>2023-04-06T15:00:00Z</td><td>180.0</td><td>Completed</td></tr><tr><td>8</td><td>103</td><td>2023-04-15T08:45:00Z</td><td>220.0</td><td>Canceled</td></tr></tbody></table></div>"
      ]
     },
     "metadata": {
      "application/vnd.databricks.v1+output": {
       "addedWidgets": {},
       "aggData": [],
       "aggError": "",
       "aggOverflow": false,
       "aggSchema": [],
       "aggSeriesLimitReached": false,
       "aggType": "",
       "arguments": {},
       "columnCustomDisplayInfos": {},
       "data": [
        [
         1,
         101,
         "2023-01-15T10:30:00Z",
         250.0,
         "Completed"
        ],
        [
         2,
         102,
         "2023-02-20T14:00:00Z",
         150.0,
         "Pending"
        ],
        [
         3,
         103,
         "2023-02-22T16:45:00Z",
         200.0,
         "Completed"
        ],
        [
         4,
         101,
         "2023-03-10T09:15:00Z",
         100.0,
         "Canceled"
        ],
        [
         5,
         104,
         "2023-03-12T11:00:00Z",
         300.0,
         "Completed"
        ],
        [
         6,
         102,
         "2023-04-05T13:30:00Z",
         120.0,
         "Pending"
        ],
        [
         7,
         105,
         "2023-04-06T15:00:00Z",
         180.0,
         "Completed"
        ],
        [
         8,
         103,
         "2023-04-15T08:45:00Z",
         220.0,
         "Canceled"
        ]
       ],
       "datasetInfos": [],
       "dbfsResultPath": null,
       "isJsonSchema": true,
       "metadata": {
        "createTempViewForImplicitDf": true,
        "dataframeName": "_sqldf",
        "executionCount": 23
       },
       "overflow": false,
       "plotOptions": {
        "customPlotOptions": {},
        "displayType": "table",
        "pivotAggregation": null,
        "pivotColumns": null,
        "xColumns": null,
        "yColumns": null
       },
       "removedWidgets": [],
       "schema": [
        {
         "metadata": "{}",
         "name": "order_id",
         "type": "\"integer\""
        },
        {
         "metadata": "{}",
         "name": "customer_id",
         "type": "\"integer\""
        },
        {
         "metadata": "{}",
         "name": "order_date",
         "type": "\"timestamp\""
        },
        {
         "metadata": "{}",
         "name": "amount",
         "type": "\"double\""
        },
        {
         "metadata": "{}",
         "name": "status",
         "type": "\"string\""
        }
       ],
       "type": "table"
      }
     },
     "output_type": "display_data"
    }
   ],
   "source": [
    "%sql\n",
    "select * from orders"
   ]
  },
  {
   "cell_type": "markdown",
   "metadata": {
    "application/vnd.databricks.v1+cell": {
     "cellMetadata": {},
     "inputWidgets": {},
     "nuid": "e7d60057-2a5c-45a6-9ef6-52551b63b656",
     "showTitle": false,
     "tableResultSettingsMap": {},
     "title": ""
    }
   },
   "source": [
    "3. How would you upsert (merge) new data into the `orders` Delta table?"
   ]
  },
  {
   "cell_type": "code",
   "execution_count": 0,
   "metadata": {
    "application/vnd.databricks.v1+cell": {
     "cellMetadata": {
      "byteLimit": 2048000,
      "implicitDf": true,
      "rowLimit": 10000
     },
     "inputWidgets": {},
     "nuid": "677da422-fbe7-4a24-9b46-8698826ca32a",
     "showTitle": false,
     "tableResultSettingsMap": {},
     "title": ""
    }
   },
   "outputs": [
    {
     "output_type": "display_data",
     "data": {
      "text/html": [
       "<style scoped>\n",
       "  .table-result-container {\n",
       "    max-height: 300px;\n",
       "    overflow: auto;\n",
       "  }\n",
       "  table, th, td {\n",
       "    border: 1px solid black;\n",
       "    border-collapse: collapse;\n",
       "  }\n",
       "  th, td {\n",
       "    padding: 5px;\n",
       "  }\n",
       "  th {\n",
       "    text-align: left;\n",
       "  }\n",
       "</style><div class='table-result-container'><table class='table-result'><thead style='background-color: white'><tr></tr></thead><tbody></tbody></table></div>"
      ]
     },
     "metadata": {
      "application/vnd.databricks.v1+output": {
       "addedWidgets": {},
       "aggData": [],
       "aggError": "",
       "aggOverflow": false,
       "aggSchema": [],
       "aggSeriesLimitReached": false,
       "aggType": "",
       "arguments": {},
       "columnCustomDisplayInfos": {},
       "data": [],
       "datasetInfos": [],
       "dbfsResultPath": null,
       "isJsonSchema": true,
       "metadata": {
        "dataframeName": null
       },
       "overflow": false,
       "plotOptions": {
        "customPlotOptions": {},
        "displayType": "table",
        "pivotAggregation": null,
        "pivotColumns": null,
        "xColumns": null,
        "yColumns": null
       },
       "removedWidgets": [],
       "schema": [],
       "type": "table"
      }
     },
     "output_type": "display_data"
    }
   ],
   "source": [
    "%sql\n",
    "CREATE TABLE IF NOT EXISTS default.new_orders (\n",
    "    order_id integer,\n",
    "    customer_id integer,\n",
    "    order_date TIMESTAMP,\n",
    "    amount DOUBLE,\n",
    "    status STRING\n",
    ");\n"
   ]
  },
  {
   "cell_type": "code",
   "execution_count": 0,
   "metadata": {
    "application/vnd.databricks.v1+cell": {
     "cellMetadata": {
      "byteLimit": 2048000,
      "implicitDf": true,
      "rowLimit": 10000
     },
     "inputWidgets": {},
     "nuid": "e0acafc3-d5ee-49f2-a4bd-c1f8f682caff",
     "showTitle": false,
     "tableResultSettingsMap": {},
     "title": ""
    }
   },
   "outputs": [
    {
     "output_type": "display_data",
     "data": {
      "text/html": [
       "<style scoped>\n",
       "  .table-result-container {\n",
       "    max-height: 300px;\n",
       "    overflow: auto;\n",
       "  }\n",
       "  table, th, td {\n",
       "    border: 1px solid black;\n",
       "    border-collapse: collapse;\n",
       "  }\n",
       "  th, td {\n",
       "    padding: 5px;\n",
       "  }\n",
       "  th {\n",
       "    text-align: left;\n",
       "  }\n",
       "</style><div class='table-result-container'><table class='table-result'><thead style='background-color: white'><tr><th>num_affected_rows</th><th>num_inserted_rows</th></tr></thead><tbody><tr><td>7</td><td>7</td></tr></tbody></table></div>"
      ]
     },
     "metadata": {
      "application/vnd.databricks.v1+output": {
       "addedWidgets": {},
       "aggData": [],
       "aggError": "",
       "aggOverflow": false,
       "aggSchema": [],
       "aggSeriesLimitReached": false,
       "aggType": "",
       "arguments": {},
       "columnCustomDisplayInfos": {},
       "data": [
        [
         7,
         7
        ]
       ],
       "datasetInfos": [],
       "dbfsResultPath": null,
       "isJsonSchema": true,
       "metadata": {
        "createTempViewForImplicitDf": true,
        "dataframeName": "_sqldf",
        "executionCount": 28
       },
       "overflow": false,
       "plotOptions": {
        "customPlotOptions": {},
        "displayType": "table",
        "pivotAggregation": null,
        "pivotColumns": null,
        "xColumns": null,
        "yColumns": null
       },
       "removedWidgets": [],
       "schema": [
        {
         "metadata": "{}",
         "name": "num_affected_rows",
         "type": "\"long\""
        },
        {
         "metadata": "{}",
         "name": "num_inserted_rows",
         "type": "\"long\""
        }
       ],
       "type": "table"
      }
     },
     "output_type": "display_data"
    }
   ],
   "source": [
    "%sql\n",
    "INSERT INTO default.new_orders VALUES\n",
    "(123, 101, '2024-12-01 10:15:30', 150.75, 'Pending'),\n",
    "(124, 102, '2024-12-02 12:45:00', 250.00, 'Shipped'),\n",
    "(125, 103, '2024-12-03 09:30:45', 99.99, 'Delivered'),\n",
    "(126, 110, '2024-12-04 14:20:10', 300.50, 'Cancelled'),\n",
    "(127, 115, '2024-12-05 16:00:00', 120.00, 'Pending'),\n",
    "(128, 106, '2024-12-06 11:30:05', 450.25, 'Shipped'),\n",
    "(129, 107, '2024-12-07 18:05:20', 80.00, 'Delivered');\n"
   ]
  },
  {
   "cell_type": "code",
   "execution_count": 0,
   "metadata": {
    "application/vnd.databricks.v1+cell": {
     "cellMetadata": {
      "byteLimit": 2048000,
      "implicitDf": true,
      "rowLimit": 10000
     },
     "inputWidgets": {},
     "nuid": "cf1ea3bc-3fe0-4c23-9240-38be83a8cac0",
     "showTitle": false,
     "tableResultSettingsMap": {},
     "title": ""
    }
   },
   "outputs": [
    {
     "output_type": "display_data",
     "data": {
      "text/html": [
       "<style scoped>\n",
       "  .table-result-container {\n",
       "    max-height: 300px;\n",
       "    overflow: auto;\n",
       "  }\n",
       "  table, th, td {\n",
       "    border: 1px solid black;\n",
       "    border-collapse: collapse;\n",
       "  }\n",
       "  th, td {\n",
       "    padding: 5px;\n",
       "  }\n",
       "  th {\n",
       "    text-align: left;\n",
       "  }\n",
       "</style><div class='table-result-container'><table class='table-result'><thead style='background-color: white'><tr><th>order_id</th><th>customer_id</th><th>order_date</th><th>amount</th><th>status</th></tr></thead><tbody><tr><td>123</td><td>101</td><td>2024-12-01T10:15:30Z</td><td>150.75</td><td>Pending</td></tr><tr><td>124</td><td>102</td><td>2024-12-02T12:45:00Z</td><td>250.0</td><td>Shipped</td></tr><tr><td>125</td><td>103</td><td>2024-12-03T09:30:45Z</td><td>99.99</td><td>Delivered</td></tr><tr><td>126</td><td>110</td><td>2024-12-04T14:20:10Z</td><td>300.5</td><td>Cancelled</td></tr><tr><td>127</td><td>115</td><td>2024-12-05T16:00:00Z</td><td>120.0</td><td>Pending</td></tr><tr><td>128</td><td>106</td><td>2024-12-06T11:30:05Z</td><td>450.25</td><td>Shipped</td></tr><tr><td>129</td><td>107</td><td>2024-12-07T18:05:20Z</td><td>80.0</td><td>Delivered</td></tr></tbody></table></div>"
      ]
     },
     "metadata": {
      "application/vnd.databricks.v1+output": {
       "addedWidgets": {},
       "aggData": [],
       "aggError": "",
       "aggOverflow": false,
       "aggSchema": [],
       "aggSeriesLimitReached": false,
       "aggType": "",
       "arguments": {},
       "columnCustomDisplayInfos": {},
       "data": [
        [
         123,
         101,
         "2024-12-01T10:15:30Z",
         150.75,
         "Pending"
        ],
        [
         124,
         102,
         "2024-12-02T12:45:00Z",
         250.0,
         "Shipped"
        ],
        [
         125,
         103,
         "2024-12-03T09:30:45Z",
         99.99,
         "Delivered"
        ],
        [
         126,
         110,
         "2024-12-04T14:20:10Z",
         300.5,
         "Cancelled"
        ],
        [
         127,
         115,
         "2024-12-05T16:00:00Z",
         120.0,
         "Pending"
        ],
        [
         128,
         106,
         "2024-12-06T11:30:05Z",
         450.25,
         "Shipped"
        ],
        [
         129,
         107,
         "2024-12-07T18:05:20Z",
         80.0,
         "Delivered"
        ]
       ],
       "datasetInfos": [],
       "dbfsResultPath": null,
       "isJsonSchema": true,
       "metadata": {
        "createTempViewForImplicitDf": true,
        "dataframeName": "_sqldf",
        "executionCount": 30
       },
       "overflow": false,
       "plotOptions": {
        "customPlotOptions": {},
        "displayType": "table",
        "pivotAggregation": null,
        "pivotColumns": null,
        "xColumns": null,
        "yColumns": null
       },
       "removedWidgets": [],
       "schema": [
        {
         "metadata": "{}",
         "name": "order_id",
         "type": "\"integer\""
        },
        {
         "metadata": "{}",
         "name": "customer_id",
         "type": "\"integer\""
        },
        {
         "metadata": "{}",
         "name": "order_date",
         "type": "\"timestamp\""
        },
        {
         "metadata": "{}",
         "name": "amount",
         "type": "\"double\""
        },
        {
         "metadata": "{}",
         "name": "status",
         "type": "\"string\""
        }
       ],
       "type": "table"
      }
     },
     "output_type": "display_data"
    }
   ],
   "source": [
    "%sql \n",
    "SELECT * FROM default.new_orders;\n"
   ]
  },
  {
   "cell_type": "code",
   "execution_count": 0,
   "metadata": {
    "application/vnd.databricks.v1+cell": {
     "cellMetadata": {
      "byteLimit": 2048000,
      "implicitDf": true,
      "rowLimit": 10000
     },
     "inputWidgets": {},
     "nuid": "aed8a906-28d5-45cf-a3a7-fbb372bbecc8",
     "showTitle": false,
     "tableResultSettingsMap": {},
     "title": ""
    }
   },
   "outputs": [
    {
     "output_type": "display_data",
     "data": {
      "text/html": [
       "<style scoped>\n",
       "  .table-result-container {\n",
       "    max-height: 300px;\n",
       "    overflow: auto;\n",
       "  }\n",
       "  table, th, td {\n",
       "    border: 1px solid black;\n",
       "    border-collapse: collapse;\n",
       "  }\n",
       "  th, td {\n",
       "    padding: 5px;\n",
       "  }\n",
       "  th {\n",
       "    text-align: left;\n",
       "  }\n",
       "</style><div class='table-result-container'><table class='table-result'><thead style='background-color: white'><tr><th>num_affected_rows</th><th>num_updated_rows</th><th>num_deleted_rows</th><th>num_inserted_rows</th></tr></thead><tbody><tr><td>7</td><td>0</td><td>0</td><td>7</td></tr></tbody></table></div>"
      ]
     },
     "metadata": {
      "application/vnd.databricks.v1+output": {
       "addedWidgets": {},
       "aggData": [],
       "aggError": "",
       "aggOverflow": false,
       "aggSchema": [],
       "aggSeriesLimitReached": false,
       "aggType": "",
       "arguments": {},
       "columnCustomDisplayInfos": {},
       "data": [
        [
         7,
         0,
         0,
         7
        ]
       ],
       "datasetInfos": [],
       "dbfsResultPath": null,
       "isJsonSchema": true,
       "metadata": {
        "createTempViewForImplicitDf": true,
        "dataframeName": "_sqldf",
        "executionCount": 31
       },
       "overflow": false,
       "plotOptions": {
        "customPlotOptions": {},
        "displayType": "table",
        "pivotAggregation": null,
        "pivotColumns": null,
        "xColumns": null,
        "yColumns": null
       },
       "removedWidgets": [],
       "schema": [
        {
         "metadata": "{}",
         "name": "num_affected_rows",
         "type": "\"long\""
        },
        {
         "metadata": "{}",
         "name": "num_updated_rows",
         "type": "\"long\""
        },
        {
         "metadata": "{}",
         "name": "num_deleted_rows",
         "type": "\"long\""
        },
        {
         "metadata": "{}",
         "name": "num_inserted_rows",
         "type": "\"long\""
        }
       ],
       "type": "table"
      }
     },
     "output_type": "display_data"
    }
   ],
   "source": [
    "%sql\n",
    "MERGE INTO default.orders AS target\n",
    "USING default.new_orders AS source\n",
    "ON target.order_id = source.order_id\n",
    "WHEN MATCHED THEN\n",
    "    UPDATE SET \n",
    "        target.customer_id = source.customer_id,\n",
    "        target.amount = source.amount,\n",
    "        target.order_date = source.order_date,\n",
    "        target.status = source.status\n",
    "WHEN NOT MATCHED THEN\n",
    "    INSERT (order_id, customer_id, amount, order_date, status)\n",
    "    VALUES (source.order_id, source.customer_id, source.amount, source.order_date, source.status);\n"
   ]
  },
  {
   "cell_type": "markdown",
   "metadata": {
    "application/vnd.databricks.v1+cell": {
     "cellMetadata": {},
     "inputWidgets": {},
     "nuid": "7ee2af21-2355-4e25-b13a-3f5b959eb844",
     "showTitle": false,
     "tableResultSettingsMap": {},
     "title": ""
    }
   },
   "source": [
    "To check whether data is merged or not"
   ]
  },
  {
   "cell_type": "code",
   "execution_count": 0,
   "metadata": {
    "application/vnd.databricks.v1+cell": {
     "cellMetadata": {
      "byteLimit": 2048000,
      "implicitDf": true,
      "rowLimit": 10000
     },
     "inputWidgets": {},
     "nuid": "38602ab3-b675-46c5-99d3-e3c0633e715f",
     "showTitle": false,
     "tableResultSettingsMap": {},
     "title": ""
    }
   },
   "outputs": [
    {
     "output_type": "display_data",
     "data": {
      "text/html": [
       "<style scoped>\n",
       "  .table-result-container {\n",
       "    max-height: 300px;\n",
       "    overflow: auto;\n",
       "  }\n",
       "  table, th, td {\n",
       "    border: 1px solid black;\n",
       "    border-collapse: collapse;\n",
       "  }\n",
       "  th, td {\n",
       "    padding: 5px;\n",
       "  }\n",
       "  th {\n",
       "    text-align: left;\n",
       "  }\n",
       "</style><div class='table-result-container'><table class='table-result'><thead style='background-color: white'><tr><th>order_id</th><th>customer_id</th><th>order_date</th><th>amount</th><th>status</th></tr></thead><tbody><tr><td>123</td><td>101</td><td>2024-12-01T10:15:30Z</td><td>150.75</td><td>Pending</td></tr></tbody></table></div>"
      ]
     },
     "metadata": {
      "application/vnd.databricks.v1+output": {
       "addedWidgets": {},
       "aggData": [],
       "aggError": "",
       "aggOverflow": false,
       "aggSchema": [],
       "aggSeriesLimitReached": false,
       "aggType": "",
       "arguments": {},
       "columnCustomDisplayInfos": {},
       "data": [
        [
         123,
         101,
         "2024-12-01T10:15:30Z",
         150.75,
         "Pending"
        ]
       ],
       "datasetInfos": [],
       "dbfsResultPath": null,
       "isJsonSchema": true,
       "metadata": {
        "createTempViewForImplicitDf": true,
        "dataframeName": "_sqldf",
        "executionCount": 32
       },
       "overflow": false,
       "plotOptions": {
        "customPlotOptions": {},
        "displayType": "table",
        "pivotAggregation": null,
        "pivotColumns": null,
        "xColumns": null,
        "yColumns": null
       },
       "removedWidgets": [],
       "schema": [
        {
         "metadata": "{}",
         "name": "order_id",
         "type": "\"integer\""
        },
        {
         "metadata": "{}",
         "name": "customer_id",
         "type": "\"integer\""
        },
        {
         "metadata": "{}",
         "name": "order_date",
         "type": "\"timestamp\""
        },
        {
         "metadata": "{}",
         "name": "amount",
         "type": "\"double\""
        },
        {
         "metadata": "{}",
         "name": "status",
         "type": "\"string\""
        }
       ],
       "type": "table"
      }
     },
     "output_type": "display_data"
    }
   ],
   "source": [
    "%sql\n",
    "SELECT * FROM default.orders WHERE order_id = 123;\n"
   ]
  },
  {
   "cell_type": "markdown",
   "metadata": {
    "application/vnd.databricks.v1+cell": {
     "cellMetadata": {},
     "inputWidgets": {},
     "nuid": "279bbf94-434c-4077-8895-301d5f9ec987",
     "showTitle": false,
     "tableResultSettingsMap": {},
     "title": ""
    }
   },
   "source": [
    "4. How would you perform time travel on the `orders` Delta table? "
   ]
  },
  {
   "cell_type": "code",
   "execution_count": 0,
   "metadata": {
    "application/vnd.databricks.v1+cell": {
     "cellMetadata": {
      "byteLimit": 2048000,
      "implicitDf": true,
      "rowLimit": 10000
     },
     "inputWidgets": {},
     "nuid": "d1562991-00d8-4049-9a81-c0b4e5a4361a",
     "showTitle": false,
     "tableResultSettingsMap": {},
     "title": ""
    }
   },
   "outputs": [
    {
     "output_type": "display_data",
     "data": {
      "text/html": [
       "<style scoped>\n",
       "  .table-result-container {\n",
       "    max-height: 300px;\n",
       "    overflow: auto;\n",
       "  }\n",
       "  table, th, td {\n",
       "    border: 1px solid black;\n",
       "    border-collapse: collapse;\n",
       "  }\n",
       "  th, td {\n",
       "    padding: 5px;\n",
       "  }\n",
       "  th {\n",
       "    text-align: left;\n",
       "  }\n",
       "</style><div class='table-result-container'><table class='table-result'><thead style='background-color: white'><tr><th>order_id</th><th>customer_id</th><th>order_date</th><th>amount</th><th>status</th></tr></thead><tbody><tr><td>1</td><td>101</td><td>2023-01-15T10:30:00Z</td><td>250.0</td><td>Completed</td></tr><tr><td>2</td><td>102</td><td>2023-02-20T14:00:00Z</td><td>150.0</td><td>Pending</td></tr><tr><td>3</td><td>103</td><td>2023-02-22T16:45:00Z</td><td>200.0</td><td>Completed</td></tr><tr><td>4</td><td>101</td><td>2023-03-10T09:15:00Z</td><td>100.0</td><td>Canceled</td></tr><tr><td>5</td><td>104</td><td>2023-03-12T11:00:00Z</td><td>300.0</td><td>Completed</td></tr><tr><td>6</td><td>102</td><td>2023-04-05T13:30:00Z</td><td>120.0</td><td>Pending</td></tr><tr><td>7</td><td>105</td><td>2023-04-06T15:00:00Z</td><td>180.0</td><td>Completed</td></tr><tr><td>8</td><td>103</td><td>2023-04-15T08:45:00Z</td><td>220.0</td><td>Canceled</td></tr></tbody></table></div>"
      ]
     },
     "metadata": {
      "application/vnd.databricks.v1+output": {
       "addedWidgets": {},
       "aggData": [],
       "aggError": "",
       "aggOverflow": false,
       "aggSchema": [],
       "aggSeriesLimitReached": false,
       "aggType": "",
       "arguments": {},
       "columnCustomDisplayInfos": {},
       "data": [
        [
         1,
         101,
         "2023-01-15T10:30:00Z",
         250.0,
         "Completed"
        ],
        [
         2,
         102,
         "2023-02-20T14:00:00Z",
         150.0,
         "Pending"
        ],
        [
         3,
         103,
         "2023-02-22T16:45:00Z",
         200.0,
         "Completed"
        ],
        [
         4,
         101,
         "2023-03-10T09:15:00Z",
         100.0,
         "Canceled"
        ],
        [
         5,
         104,
         "2023-03-12T11:00:00Z",
         300.0,
         "Completed"
        ],
        [
         6,
         102,
         "2023-04-05T13:30:00Z",
         120.0,
         "Pending"
        ],
        [
         7,
         105,
         "2023-04-06T15:00:00Z",
         180.0,
         "Completed"
        ],
        [
         8,
         103,
         "2023-04-15T08:45:00Z",
         220.0,
         "Canceled"
        ]
       ],
       "datasetInfos": [],
       "dbfsResultPath": null,
       "isJsonSchema": true,
       "metadata": {
        "createTempViewForImplicitDf": true,
        "dataframeName": "_sqldf",
        "executionCount": 33
       },
       "overflow": false,
       "plotOptions": {
        "customPlotOptions": {},
        "displayType": "table",
        "pivotAggregation": null,
        "pivotColumns": null,
        "xColumns": null,
        "yColumns": null
       },
       "removedWidgets": [],
       "schema": [
        {
         "metadata": "{}",
         "name": "order_id",
         "type": "\"integer\""
        },
        {
         "metadata": "{}",
         "name": "customer_id",
         "type": "\"integer\""
        },
        {
         "metadata": "{}",
         "name": "order_date",
         "type": "\"timestamp\""
        },
        {
         "metadata": "{}",
         "name": "amount",
         "type": "\"double\""
        },
        {
         "metadata": "{}",
         "name": "status",
         "type": "\"string\""
        }
       ],
       "type": "table"
      }
     },
     "output_type": "display_data"
    }
   ],
   "source": [
    "%sql\n",
    "SELECT * FROM default.orders VERSION AS OF 0;\n",
    "\n"
   ]
  },
  {
   "cell_type": "code",
   "execution_count": 0,
   "metadata": {
    "application/vnd.databricks.v1+cell": {
     "cellMetadata": {
      "byteLimit": 2048000,
      "implicitDf": true,
      "rowLimit": 10000
     },
     "inputWidgets": {},
     "nuid": "2cc90946-2754-48bf-8a31-f092fd2ef0aa",
     "showTitle": false,
     "tableResultSettingsMap": {},
     "title": ""
    }
   },
   "outputs": [
    {
     "output_type": "display_data",
     "data": {
      "text/html": [
       "<style scoped>\n",
       "  .table-result-container {\n",
       "    max-height: 300px;\n",
       "    overflow: auto;\n",
       "  }\n",
       "  table, th, td {\n",
       "    border: 1px solid black;\n",
       "    border-collapse: collapse;\n",
       "  }\n",
       "  th, td {\n",
       "    padding: 5px;\n",
       "  }\n",
       "  th {\n",
       "    text-align: left;\n",
       "  }\n",
       "</style><div class='table-result-container'><table class='table-result'><thead style='background-color: white'><tr><th>order_id</th><th>customer_id</th><th>order_date</th><th>amount</th><th>status</th></tr></thead><tbody><tr><td>1</td><td>101</td><td>2023-01-15T10:30:00Z</td><td>250.0</td><td>Completed</td></tr><tr><td>2</td><td>102</td><td>2023-02-20T14:00:00Z</td><td>150.0</td><td>Pending</td></tr><tr><td>3</td><td>103</td><td>2023-02-22T16:45:00Z</td><td>200.0</td><td>Completed</td></tr><tr><td>4</td><td>101</td><td>2023-03-10T09:15:00Z</td><td>100.0</td><td>Canceled</td></tr><tr><td>5</td><td>104</td><td>2023-03-12T11:00:00Z</td><td>300.0</td><td>Completed</td></tr><tr><td>6</td><td>102</td><td>2023-04-05T13:30:00Z</td><td>120.0</td><td>Pending</td></tr><tr><td>7</td><td>105</td><td>2023-04-06T15:00:00Z</td><td>180.0</td><td>Completed</td></tr><tr><td>8</td><td>103</td><td>2023-04-15T08:45:00Z</td><td>220.0</td><td>Canceled</td></tr><tr><td>123</td><td>101</td><td>2024-12-01T10:15:30Z</td><td>150.75</td><td>Pending</td></tr><tr><td>124</td><td>102</td><td>2024-12-02T12:45:00Z</td><td>250.0</td><td>Shipped</td></tr><tr><td>125</td><td>103</td><td>2024-12-03T09:30:45Z</td><td>99.99</td><td>Delivered</td></tr><tr><td>126</td><td>110</td><td>2024-12-04T14:20:10Z</td><td>300.5</td><td>Cancelled</td></tr><tr><td>127</td><td>115</td><td>2024-12-05T16:00:00Z</td><td>120.0</td><td>Pending</td></tr><tr><td>128</td><td>106</td><td>2024-12-06T11:30:05Z</td><td>450.25</td><td>Shipped</td></tr><tr><td>129</td><td>107</td><td>2024-12-07T18:05:20Z</td><td>80.0</td><td>Delivered</td></tr></tbody></table></div>"
      ]
     },
     "metadata": {
      "application/vnd.databricks.v1+output": {
       "addedWidgets": {},
       "aggData": [],
       "aggError": "",
       "aggOverflow": false,
       "aggSchema": [],
       "aggSeriesLimitReached": false,
       "aggType": "",
       "arguments": {},
       "columnCustomDisplayInfos": {},
       "data": [
        [
         1,
         101,
         "2023-01-15T10:30:00Z",
         250.0,
         "Completed"
        ],
        [
         2,
         102,
         "2023-02-20T14:00:00Z",
         150.0,
         "Pending"
        ],
        [
         3,
         103,
         "2023-02-22T16:45:00Z",
         200.0,
         "Completed"
        ],
        [
         4,
         101,
         "2023-03-10T09:15:00Z",
         100.0,
         "Canceled"
        ],
        [
         5,
         104,
         "2023-03-12T11:00:00Z",
         300.0,
         "Completed"
        ],
        [
         6,
         102,
         "2023-04-05T13:30:00Z",
         120.0,
         "Pending"
        ],
        [
         7,
         105,
         "2023-04-06T15:00:00Z",
         180.0,
         "Completed"
        ],
        [
         8,
         103,
         "2023-04-15T08:45:00Z",
         220.0,
         "Canceled"
        ],
        [
         123,
         101,
         "2024-12-01T10:15:30Z",
         150.75,
         "Pending"
        ],
        [
         124,
         102,
         "2024-12-02T12:45:00Z",
         250.0,
         "Shipped"
        ],
        [
         125,
         103,
         "2024-12-03T09:30:45Z",
         99.99,
         "Delivered"
        ],
        [
         126,
         110,
         "2024-12-04T14:20:10Z",
         300.5,
         "Cancelled"
        ],
        [
         127,
         115,
         "2024-12-05T16:00:00Z",
         120.0,
         "Pending"
        ],
        [
         128,
         106,
         "2024-12-06T11:30:05Z",
         450.25,
         "Shipped"
        ],
        [
         129,
         107,
         "2024-12-07T18:05:20Z",
         80.0,
         "Delivered"
        ]
       ],
       "datasetInfos": [],
       "dbfsResultPath": null,
       "isJsonSchema": true,
       "metadata": {
        "createTempViewForImplicitDf": true,
        "dataframeName": "_sqldf",
        "executionCount": 34
       },
       "overflow": false,
       "plotOptions": {
        "customPlotOptions": {},
        "displayType": "table",
        "pivotAggregation": null,
        "pivotColumns": null,
        "xColumns": null,
        "yColumns": null
       },
       "removedWidgets": [],
       "schema": [
        {
         "metadata": "{}",
         "name": "order_id",
         "type": "\"integer\""
        },
        {
         "metadata": "{}",
         "name": "customer_id",
         "type": "\"integer\""
        },
        {
         "metadata": "{}",
         "name": "order_date",
         "type": "\"timestamp\""
        },
        {
         "metadata": "{}",
         "name": "amount",
         "type": "\"double\""
        },
        {
         "metadata": "{}",
         "name": "status",
         "type": "\"string\""
        }
       ],
       "type": "table"
      }
     },
     "output_type": "display_data"
    }
   ],
   "source": [
    "%sql\n",
    "SELECT * FROM default.orders VERSION AS OF 1;"
   ]
  },
  {
   "cell_type": "markdown",
   "metadata": {
    "application/vnd.databricks.v1+cell": {
     "cellMetadata": {},
     "inputWidgets": {},
     "nuid": "74851cd4-6aab-483b-a99c-bde7b7a52410",
     "showTitle": false,
     "tableResultSettingsMap": {},
     "title": ""
    }
   },
   "source": [
    "5. How would you delete older versions of the Delta table that are more than 7 days old?  \n"
   ]
  },
  {
   "cell_type": "code",
   "execution_count": 0,
   "metadata": {
    "application/vnd.databricks.v1+cell": {
     "cellMetadata": {
      "byteLimit": 2048000,
      "implicitDf": true,
      "rowLimit": 10000
     },
     "inputWidgets": {},
     "nuid": "46f2e06f-b32d-4feb-8890-96edfdaa735d",
     "showTitle": false,
     "tableResultSettingsMap": {},
     "title": ""
    }
   },
   "outputs": [
    {
     "output_type": "display_data",
     "data": {
      "text/html": [
       "<style scoped>\n",
       "  .table-result-container {\n",
       "    max-height: 300px;\n",
       "    overflow: auto;\n",
       "  }\n",
       "  table, th, td {\n",
       "    border: 1px solid black;\n",
       "    border-collapse: collapse;\n",
       "  }\n",
       "  th, td {\n",
       "    padding: 5px;\n",
       "  }\n",
       "  th {\n",
       "    text-align: left;\n",
       "  }\n",
       "</style><div class='table-result-container'><table class='table-result'><thead style='background-color: white'><tr><th>path</th></tr></thead><tbody><tr><td>dbfs:/user/hive/warehouse/orders</td></tr></tbody></table></div>"
      ]
     },
     "metadata": {
      "application/vnd.databricks.v1+output": {
       "addedWidgets": {},
       "aggData": [],
       "aggError": "",
       "aggOverflow": false,
       "aggSchema": [],
       "aggSeriesLimitReached": false,
       "aggType": "",
       "arguments": {},
       "columnCustomDisplayInfos": {},
       "data": [
        [
         "dbfs:/user/hive/warehouse/orders"
        ]
       ],
       "datasetInfos": [],
       "dbfsResultPath": null,
       "isJsonSchema": true,
       "metadata": {
        "createTempViewForImplicitDf": true,
        "dataframeName": "_sqldf",
        "executionCount": 35
       },
       "overflow": false,
       "plotOptions": {
        "customPlotOptions": {},
        "displayType": "table",
        "pivotAggregation": null,
        "pivotColumns": null,
        "xColumns": null,
        "yColumns": null
       },
       "removedWidgets": [],
       "schema": [
        {
         "metadata": "{}",
         "name": "path",
         "type": "\"string\""
        }
       ],
       "type": "table"
      }
     },
     "output_type": "display_data"
    }
   ],
   "source": [
    "%sql\n",
    "VACUUM default.orders RETAIN 168 HOURS;\n"
   ]
  }
 ],
 "metadata": {
  "application/vnd.databricks.v1+notebook": {
   "dashboards": [],
   "environmentMetadata": {
    "base_environment": "",
    "client": "1"
   },
   "language": "python",
   "notebookMetadata": {
    "mostRecentlyExecutedCommandWithImplicitDF": {
     "commandId": 4138773031577719,
     "dataframes": [
      "_sqldf"
     ]
    },
    "pythonIndentUnit": 4
   },
   "notebookName": "databricks_coding_assessment",
   "widgets": {}
  },
  "language_info": {
   "name": "python"
  }
 },
 "nbformat": 4,
 "nbformat_minor": 0
}